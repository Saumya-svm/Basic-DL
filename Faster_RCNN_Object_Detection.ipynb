{
  "nbformat": 4,
  "nbformat_minor": 0,
  "metadata": {
    "colab": {
      "provenance": [],
      "authorship_tag": "ABX9TyMx6Wj12rrcbnWPdiSfFfLe",
      "include_colab_link": true
    },
    "kernelspec": {
      "name": "python3",
      "display_name": "Python 3"
    },
    "language_info": {
      "name": "python"
    }
  },
  "cells": [
    {
      "cell_type": "markdown",
      "metadata": {
        "id": "view-in-github",
        "colab_type": "text"
      },
      "source": [
        "<a href=\"https://colab.research.google.com/github/Saumya-svm/Basic-DL/blob/main/Faster_RCNN_Object_Detection.ipynb\" target=\"_parent\"><img src=\"https://colab.research.google.com/assets/colab-badge.svg\" alt=\"Open In Colab\"/></a>"
      ]
    },
    {
      "cell_type": "code",
      "execution_count": null,
      "metadata": {
        "id": "-Hk1adEVg43x"
      },
      "outputs": [],
      "source": [
        "import tensorflow as tf\n",
        "import tensorflow_hub as hub\n",
        "\n",
        "import numpy as np\n",
        "import matplotlib.pyplot as plt\n",
        "\n",
        "from PIL import Image"
      ]
    },
    {
      "cell_type": "code",
      "source": [
        "module_handle = \"https://tfhub.dev/tensorflow/faster_rcnn/inception_resnet_v2_640x640/1\"\n",
        "detector = hub.load(module_handle)"
      ],
      "metadata": {
        "id": "yI3CjnXqhMkX"
      },
      "execution_count": null,
      "outputs": []
    },
    {
      "cell_type": "code",
      "source": [
        "path = 'img.jpeg'\n",
        "img = np.array(Image.open(path))\n",
        "converted_img  = tf.convert_to_tensor(img)\n",
        "converted_img = converted_img[tf.newaxis, ...]\n",
        "converted_img = converted_img[:, :, :, :3]"
      ],
      "metadata": {
        "id": "SZgg4zzKhNLT"
      },
      "execution_count": null,
      "outputs": []
    },
    {
      "cell_type": "code",
      "source": [
        "result = detector(converted_img)"
      ],
      "metadata": {
        "id": "LUHtzNRohjrj"
      },
      "execution_count": null,
      "outputs": []
    },
    {
      "cell_type": "code",
      "source": [
        "d = {}\n",
        "with open(\"dict.txt\") as f:\n",
        "  key = 1\n",
        "  for line in f:\n",
        "    val = line\n",
        "    d[int(key)] = val\n",
        "    key+=1"
      ],
      "metadata": {
        "id": "lIK24S3LhmFM"
      },
      "execution_count": null,
      "outputs": []
    },
    {
      "cell_type": "code",
      "source": [
        "f = plt.figure()\n",
        "f.set_figwidth(10)\n",
        "f.set_figheight(10)\n",
        "\n",
        "plt.imshow(img)\n",
        "y_scale = img.shape[0]\n",
        "x_scale = img.shape[1]\n",
        "colors = ['r','g','b']\n",
        "\n",
        "for i in range(3):\n",
        "  box_one = result['detection_boxes'][0][i].numpy()\n",
        "  box_one[0], box_one[2] = box_one[0]*y_scale, box_one[2]*y_scale\n",
        "  box_one[1], box_one[3] = box_one[1]*x_scale, box_one[3]*x_scale\n",
        "  ymin = box_one[0]\n",
        "  xmin = box_one[1]\n",
        "  ymax = box_one[2]\n",
        "  xmax = box_one[3]\n",
        "  plt.plot([xmin,xmin], [ymin,ymax],colors[i], label=d[int(result['detection_classes'][0][i].numpy())])\n",
        "  plt.legend(bbox_to_anchor=(1.2, 1.2))\n",
        "  plt.plot([xmax, xmax], [ymin, ymax],colors[i])\n",
        "  plt.plot([xmax, xmin], [ymax, ymax],colors[i])\n",
        "  plt.plot([xmax, xmin], [ymin, ymin],colors[i])"
      ],
      "metadata": {
        "id": "pGRXevuRhvM6"
      },
      "execution_count": null,
      "outputs": []
    },
    {
      "cell_type": "code",
      "source": [],
      "metadata": {
        "id": "JZVkPfhLhxdb"
      },
      "execution_count": null,
      "outputs": []
    }
  ]
}